{
 "cells": [
  {
   "cell_type": "markdown",
   "id": "1603b648",
   "metadata": {},
   "source": [
    "# NumPy"
   ]
  },
  {
   "cell_type": "code",
   "execution_count": 1,
   "id": "a4c85e43",
   "metadata": {},
   "outputs": [],
   "source": [
    "import numpy as np"
   ]
  },
  {
   "cell_type": "markdown",
   "id": "6c5f3d3a",
   "metadata": {},
   "source": [
    "# 11.04.2022"
   ]
  },
  {
   "cell_type": "markdown",
   "id": "f08d62bd",
   "metadata": {},
   "source": [
    ">csv with numpy sounds like kekis, but"
   ]
  },
  {
   "cell_type": "code",
   "execution_count": 16,
   "id": "36aa331a",
   "metadata": {},
   "outputs": [],
   "source": [
    "np.genfromtxt?"
   ]
  },
  {
   "cell_type": "code",
   "execution_count": 15,
   "id": "b1d4fd94",
   "metadata": {},
   "outputs": [],
   "source": [
    "np.recfromcsv?"
   ]
  },
  {
   "cell_type": "markdown",
   "id": "0f8a14a4",
   "metadata": {},
   "source": [
    "> masks"
   ]
  },
  {
   "cell_type": "code",
   "execution_count": 42,
   "id": "6f0634b6",
   "metadata": {},
   "outputs": [
    {
     "data": {
      "text/plain": [
       "array([[ 0.5,  1. ,  1.5,  2. ,  2.5],\n",
       "       [ 3. ,  3.5,  4. ,  4.5,  5. ],\n",
       "       [ 5.5,  6. ,  6.5,  7. ,  7.5],\n",
       "       [ 8. ,  8.5,  9. ,  9.5, 10. ]])"
      ]
     },
     "execution_count": 42,
     "metadata": {},
     "output_type": "execute_result"
    }
   ],
   "source": [
    "a=np.linspace(0.5,10.0,20)\n",
    "a=a.reshape(4,5)\n",
    "a"
   ]
  },
  {
   "cell_type": "code",
   "execution_count": 51,
   "id": "65e0d7e5",
   "metadata": {},
   "outputs": [
    {
     "data": {
      "text/plain": [
       "array([[False, False, False, False, False],\n",
       "       [False, False, False, False,  True],\n",
       "       [ True,  True,  True,  True,  True],\n",
       "       [False, False, False, False, False]])"
      ]
     },
     "execution_count": 51,
     "metadata": {},
     "output_type": "execute_result"
    }
   ],
   "source": [
    "msk=(a>=5)*(a<8)\n",
    "msk"
   ]
  },
  {
   "cell_type": "code",
   "execution_count": 52,
   "id": "2a71fdc0",
   "metadata": {},
   "outputs": [
    {
     "data": {
      "text/plain": [
       "array([5. , 5.5, 6. , 6.5, 7. , 7.5])"
      ]
     },
     "execution_count": 52,
     "metadata": {},
     "output_type": "execute_result"
    }
   ],
   "source": [
    "a[msk]"
   ]
  },
  {
   "cell_type": "markdown",
   "id": "772499eb",
   "metadata": {},
   "source": [
    "# work in library"
   ]
  },
  {
   "cell_type": "code",
   "execution_count": 80,
   "id": "a53fed16",
   "metadata": {},
   "outputs": [
    {
     "name": "stdout",
     "output_type": "stream",
     "text": [
      "60\n"
     ]
    }
   ],
   "source": [
    "arr=['Мцыри', 'Преступление и наказание', 'Кортик', 'Бородино', 'Молодая гвардия', 'Евгений Онегин', 'Герой нашего времени', 'Идиот', 'Зойкина квартира', 'Демон', 'Собачье Сердце', 'Сборник романов Достоевского', 'Стихотворения Лермонтова', 'Белая гвардия', 'Мастер и Маргарита', 'Лучшие произведения М.Ю. Лермонтова', 'Горячий снег', 'Дикая собака Динго', 'Беглец', 'Стихотворения Пушкина', 'Василий Теркин', 'Выхожу один я на дорогу', 'Война и Мир', 'Анна Каренина', 'Кинжал',\n",
    "         'Севастопольские рассказы', 'Бал', 'Ангел', 'Романы Толстого', 'Князь Серебряный','Сердца Трех','По Ком Звонит Колокол', 'Марк Твен', 'Малыш и Карлсон', 'Великий Гетсби', 'Маугли',\n",
    "         'Мио, Мой Мио', 'На западном фронте без перемен', 'Портрет Дориана Грея', 'Мартин Иден', 'Собор Парижской Богоматери', 'Отверженные', 'Белый Клык', 'Человек, который смеется', 'Детективы Агаты Кристи',\n",
    "         'Фауст', 'Лучшие стихотворения Киплинга', 'Рубаи Омара Хайяма', 'Сонеты Уильяма Шекспира', 'Гомер: Иллиада', 'Гомер: Одиссея', 'Ворон', 'Уильям Блейк',\n",
    "         'Гораций', 'Басё', 'Сборник стихотворений Гёте', 'Шиллер. Избраннные произведения', 'Сайгё', 'Сборник Роберта Бернса', 'Омар Хайям']\n",
    "print(len(arr))"
   ]
  },
  {
   "cell_type": "code",
   "execution_count": 81,
   "id": "9a0ec910",
   "metadata": {},
   "outputs": [],
   "source": [
    "arr=np.array(arr)"
   ]
  },
  {
   "cell_type": "code",
   "execution_count": 82,
   "id": "28bd68c9",
   "metadata": {},
   "outputs": [],
   "source": [
    "arr=arr[int(len(arr)/2):len(arr)-int(len(arr)/4):3]"
   ]
  },
  {
   "cell_type": "code",
   "execution_count": 83,
   "id": "b3131591",
   "metadata": {},
   "outputs": [
    {
     "data": {
      "text/plain": [
       "array(['Сердца Трех', 'Малыш и Карлсон', 'Мио, Мой Мио', 'Мартин Иден',\n",
       "       'Белый Клык'], dtype='<U35')"
      ]
     },
     "execution_count": 83,
     "metadata": {},
     "output_type": "execute_result"
    }
   ],
   "source": [
    "arr"
   ]
  },
  {
   "cell_type": "markdown",
   "id": "c9d3ee8d",
   "metadata": {},
   "source": [
    "# 12.0.2022"
   ]
  },
  {
   "cell_type": "code",
   "execution_count": 40,
   "id": "cad7d62e",
   "metadata": {},
   "outputs": [],
   "source": [
    "import matplotlib.pyplot as plt"
   ]
  },
  {
   "cell_type": "code",
   "execution_count": 41,
   "id": "02b48710",
   "metadata": {},
   "outputs": [],
   "source": [
    "dt=np.genfromtxt(\"C:\\\\Users\\\\MainA\\\\Desktop\\\\stockholm_tmp.dat\",dtype='float')"
   ]
  },
  {
   "cell_type": "code",
   "execution_count": 56,
   "id": "b8eb81b6",
   "metadata": {},
   "outputs": [],
   "source": [
    "dtt=np.array(dt)"
   ]
  },
  {
   "cell_type": "code",
   "execution_count": 68,
   "id": "4aeac785",
   "metadata": {},
   "outputs": [
    {
     "data": {
      "text/plain": [
       "[array([ 1.8e+03,  1.0e+00,  1.0e+00, -6.1e+00, -6.1e+00, -6.1e+00,\n",
       "         1.0e+00]),\n",
       " array([ 1.80e+03,  1.00e+00,  2.00e+00, -1.54e+01, -1.54e+01, -1.54e+01,\n",
       "         1.00e+00]),\n",
       " array([ 1.8e+03,  1.0e+00,  3.0e+00, -1.5e+01, -1.5e+01, -1.5e+01,\n",
       "         1.0e+00]),\n",
       " array([ 1.80e+03,  1.00e+00,  4.00e+00, -1.93e+01, -1.93e+01, -1.93e+01,\n",
       "         1.00e+00]),\n",
       " array([ 1.80e+03,  1.00e+00,  5.00e+00, -1.68e+01, -1.68e+01, -1.68e+01,\n",
       "         1.00e+00]),\n",
       " array([ 1.80e+03,  1.00e+00,  6.00e+00, -1.14e+01, -1.14e+01, -1.14e+01,\n",
       "         1.00e+00]),\n",
       " array([ 1.8e+03,  1.0e+00,  7.0e+00, -7.6e+00, -7.6e+00, -7.6e+00,\n",
       "         1.0e+00]),\n",
       " array([ 1.8e+03,  1.0e+00,  8.0e+00, -7.1e+00, -7.1e+00, -7.1e+00,\n",
       "         1.0e+00]),\n",
       " array([ 1.80e+03,  1.00e+00,  9.00e+00, -1.01e+01, -1.01e+01, -1.01e+01,\n",
       "         1.00e+00]),\n",
       " array([ 1.8e+03,  1.0e+00,  1.0e+01, -9.5e+00, -9.5e+00, -9.5e+00,\n",
       "         1.0e+00]),\n",
       " array([ 1.8e+03,  1.0e+00,  1.1e+01, -6.4e+00, -6.4e+00, -6.4e+00,\n",
       "         1.0e+00]),\n",
       " array([ 1.8e+03,  1.0e+00,  1.2e+01, -5.8e+00, -5.8e+00, -5.8e+00,\n",
       "         1.0e+00])]"
      ]
     },
     "execution_count": 68,
     "metadata": {},
     "output_type": "execute_result"
    }
   ],
   "source": [
    "[dtt[i] for i in range(12)]"
   ]
  },
  {
   "cell_type": "code",
   "execution_count": 69,
   "id": "a2c75058",
   "metadata": {},
   "outputs": [],
   "source": [
    "month={}\n",
    "for i in dtt:\n",
    "    month[i[1]]=[]\n",
    "for i in dtt:\n",
    "    month[i[1]].append(i[3])"
   ]
  },
  {
   "cell_type": "code",
   "execution_count": 80,
   "id": "e9c7cba5",
   "metadata": {},
   "outputs": [
    {
     "name": "stdout",
     "output_type": "stream",
     "text": [
      "<map object at 0x000001C0289EA400>\n"
     ]
    }
   ],
   "source": [
    "x=[i for i in month]\n",
    "print(map(int,x))\n"
   ]
  },
  {
   "cell_type": "code",
   "execution_count": 76,
   "id": "992987aa",
   "metadata": {},
   "outputs": [],
   "source": [
    "y=[np.average(mass) for mass in month.values()]"
   ]
  },
  {
   "cell_type": "code",
   "execution_count": 110,
   "id": "a6be4c41",
   "metadata": {},
   "outputs": [
    {
     "data": {
      "image/png": "[encoded data removed]",
      "text/plain": [
       "<Figure size 432x288 with 1 Axes>"
      ]
     },
     "metadata": {
      "needs_background": "light"
     },
     "output_type": "display_data"
    }
   ],
   "source": [
    "fig, ax=plt.subplots()\n",
    "ax.bar(list(map(int,x)),y)\n",
    "plt.xlim(left=0.5,right=12.5)\n",
    "plt.xticks(x)\n",
    "plt.yticks(y,rotation=0)\n",
    "plt.show()"
   ]
  }
 ],
 "metadata": {
  "kernelspec": {
   "display_name": "Python 3 (ipykernel)",
   "language": "python",
   "name": "python3"
  },
  "language_info": {
   "codemirror_mode": {
    "name": "ipython",
    "version": 3
   },
   "file_extension": ".py",
   "mimetype": "text/x-python",
   "name": "python",
   "nbconvert_exporter": "python",
   "pygments_lexer": "ipython3",
   "version": "3.9.7"
  }
 },
 "nbformat": 4,
 "nbformat_minor": 5
}
