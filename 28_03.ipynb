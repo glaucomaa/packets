{
 "cells": [
  {
   "cell_type": "markdown",
   "id": "6ce28c37",
   "metadata": {},
   "source": [
    "A\n",
    "# _A\n",
    "## _A\n",
    "### _A\n",
    "#### _A\n",
    "* b\n",
    "* b\n",
    "    * b\n",
    "    * b\n",
    "    \n",
    " ![f](C:\\Users\\MainA\\Desktop\\inst\\275737544_932391097328510_7083976677605425296_n.jpg) not work\n",
    " Цитата\n",
    " > Цитата"
   ]
  },
  {
   "cell_type": "markdown",
   "id": "5d34b619",
   "metadata": {},
   "source": [
    "# $x_{n+1}=r\\times x_n\\times (1-x_n)$\n",
    "## знаем, что это численность популяции по поколениям в замкнутой среде\n",
    "### $x_{n+1}=r\\times x_n\\times (1-x_n) \\text{Попробуем найти производящую функцию для r=2}\n",
    "a_0=x\\\\\n",
    "a_1=2*a_0*(1-a_0)\\\\\n",
    "a_2=2*a_1*(1-a_1)\\\\\n",
    "a_3=2*a_2*(1-a_2)\\\\\n",
    "a_4=2*a_3*(1-a_3)\\\\\n",
    "a_5=2*a_4*(1-a_4)\\\\\n",
    "a_6=2*a_5*(1-a_5)\\\\\n",
    "\\ldots\\\\\n",
    "a_n=2*a_{n-1}*(1-a_{n-1})\\\\\n",
    "\\scriptsize{\\text{#TODO}}\n",
    "$\n"
   ]
  },
  {
   "cell_type": "code",
   "execution_count": 19,
   "id": "58b36f31",
   "metadata": {},
   "outputs": [],
   "source": [
    "import random"
   ]
  },
  {
   "cell_type": "code",
   "execution_count": 44,
   "id": "c406de6a",
   "metadata": {},
   "outputs": [],
   "source": [
    "def x_i(x,r):\n",
    "    for i in range(1000):   \n",
    "        x=r*x*(1-x)\n",
    "    return x"
   ]
  },
  {
   "cell_type": "code",
   "execution_count": 57,
   "id": "edbb65e3",
   "metadata": {},
   "outputs": [],
   "source": [
    "import matplotlib.pyplot as plt\n",
    "import numpy as np"
   ]
  },
  {
   "cell_type": "code",
   "execution_count": 59,
   "id": "03026128",
   "metadata": {},
   "outputs": [
    {
     "data": {
      "image/png": "[encoded data removed]",
      "text/plain": [
       "<Figure size 432x288 with 1 Axes>"
      ]
     },
     "metadata": {
      "needs_background": "light"
     },
     "output_type": "display_data"
    }
   ],
   "source": [
    "P=np.linspace(0.7,4,10000)\n",
    "m=0.7\n",
    "# Initialize your data containers identically\n",
    "X = []\n",
    "Y = []\n",
    "# l is never used, I removed it.\n",
    "for u in P:\n",
    "    # Add one value to X instead of resetting it.\n",
    "    X.append(u)\n",
    "    # Start with a random value of m instead of remaining stuck\n",
    "    # on a particular branch of the diagram\n",
    "    m = np.random.random()\n",
    "    for n in range(2000):\n",
    "        m=(u*m)*(1-m)\n",
    "    # The break is harmful here as it prevents completion of\n",
    "    # the loop and collection of data in Y \n",
    "    for l in range(1051):\n",
    "        m=(u*m)*(1-m)\n",
    "    # Collection of data in Y must be done once per value of u\n",
    "    Y.append(m)\n",
    "# Remove the line between successive data points, this renders\n",
    "# the plot illegible. Use a small marker instead.\n",
    "plt.plot(X, Y, ls='', marker=',')\n",
    "plt.show()"
   ]
  }
 ],
 "metadata": {
  "kernelspec": {
   "display_name": "Python 3 (ipykernel)",
   "language": "python",
   "name": "python3"
  },
  "language_info": {
   "codemirror_mode": {
    "name": "ipython",
    "version": 3
   },
   "file_extension": ".py",
   "mimetype": "text/x-python",
   "name": "python",
   "nbconvert_exporter": "python",
   "pygments_lexer": "ipython3",
   "version": "3.9.7"
  }
 },
 "nbformat": 4,
 "nbformat_minor": 5
}
