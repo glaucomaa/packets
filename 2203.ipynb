{
 "cells": [
  {
   "cell_type": "code",
   "execution_count": 10,
   "id": "2dcddb08",
   "metadata": {},
   "outputs": [
    {
     "name": "stdout",
     "output_type": "stream",
     "text": [
      "5\n"
     ]
    }
   ],
   "source": [
    "o = int(input())"
   ]
  },
  {
   "cell_type": "code",
   "execution_count": 53,
   "id": "1df7c2f5",
   "metadata": {},
   "outputs": [
    {
     "name": "stdout",
     "output_type": "stream",
     "text": [
      "* * * * * \n",
      "* * * * * \n",
      "* * * * * \n",
      "* * * * * \n",
      "* * * * * \n"
     ]
    }
   ],
   "source": [
    "for i in range(o):\n",
    "    print('* '*o)"
   ]
  },
  {
   "cell_type": "code",
   "execution_count": 61,
   "id": "4d99f03a",
   "metadata": {},
   "outputs": [
    {
     "name": "stdout",
     "output_type": "stream",
     "text": [
      "? 5\n",
      "? ? ? ? ? \n",
      "? ? ? ? ? \n",
      "? ? ? ? ? \n",
      "? ? ? ? ? \n",
      "? ? ? ? ? \n"
     ]
    }
   ],
   "source": [
    "print(*(lambda o,n:[(str(o)+' ')*int(n)]*int(n))(*input().split()),sep='\\n')"
   ]
  }
 ],
 "metadata": {
  "kernelspec": {
   "display_name": "Python 3 (ipykernel)",
   "language": "python",
   "name": "python3"
  },
  "language_info": {
   "codemirror_mode": {
    "name": "ipython",
    "version": 3
   },
   "file_extension": ".py",
   "mimetype": "text/x-python",
   "name": "python",
   "nbconvert_exporter": "python",
   "pygments_lexer": "ipython3",
   "version": "3.9.7"
  }
 },
 "nbformat": 4,
 "nbformat_minor": 5
}
