{
 "cells": [
  {
   "cell_type": "code",
   "execution_count": 36,
   "id": "7523b7bc",
   "metadata": {},
   "outputs": [
    {
     "name": "stdout",
     "output_type": "stream",
     "text": [
      "1103    1105\n"
     ]
    }
   ],
   "source": [
    "print(ord('я'),'  ',ord('ё'))"
   ]
  },
  {
   "cell_type": "markdown",
   "id": "988509d1",
   "metadata": {},
   "source": [
    "##### what's 1104?"
   ]
  },
  {
   "cell_type": "code",
   "execution_count": 35,
   "id": "b3b44178",
   "metadata": {},
   "outputs": [
    {
     "name": "stdout",
     "output_type": "stream",
     "text": [
      "ѐ\n"
     ]
    }
   ],
   "source": [
    "print(chr(1104))"
   ]
  },
  {
   "cell_type": "code",
   "execution_count": 193,
   "id": "9ad60ea4",
   "metadata": {},
   "outputs": [],
   "source": [
    "def str_rev(strochka:str):\n",
    "    return(strochka[::-1])\n",
    "def str_kav(strochka:str):\n",
    "    return strochka[strochka.find('\"',0)+1:strochka.find('\"',strochka.find('\"',0)+1)]\n",
    "def str_mul(strochka:str):\n",
    "    return int(strochka)*2\n",
    "def str_space(strochka:str):\n",
    "    return strochka[strochka.find(' ',0)+1::]+' '+strochka[:strochka.find(' ',0):]\n",
    "def str_email(strochka:str):\n",
    "    return strochka[:strochka.find('@',0):]\n",
    "def str_number(strochka:str):\n",
    "    return strochka.replace(' ','').replace(')','').replace('(','').replace('-','')\n",
    "def str_palindr(strochka:str):\n",
    "    return \"It is a palindrome\" if strochka==strochka[::-1] else \"It is not a palindrome\"\n",
    "def str_petya():\n",
    "    return \"\".join([str(i) for i in range(1,124)]).replace('9','')\n",
    "def str_arm():\n",
    "    return \" \".join([str(i) for i in range(100,1000) if (i//100)**3+(i//10%10)**3+(i%10)**3 ==i])\n",
    "def str_aft(n:int):\n",
    "    return \"\".join([str(i)+'*'+str(i)+'='+str(i**2)+'\\n' for i in range(1,n) if str(i**2)[-len(str(i)):]==str(i)])"
   ]
  },
  {
   "cell_type": "code",
   "execution_count": 194,
   "id": "59002c03",
   "metadata": {},
   "outputs": [
    {
     "name": "stdout",
     "output_type": "stream",
     "text": [
      "1*1=1\n",
      "5*5=25\n",
      "6*6=36\n",
      "25*25=625\n",
      "76*76=5776\n",
      "376*376=141376\n",
      "625*625=390625\n",
      "\n"
     ]
    }
   ],
   "source": [
    "print(str_aft(1000))"
   ]
  },
  {
   "cell_type": "code",
   "execution_count": 188,
   "id": "2561e39a",
   "metadata": {},
   "outputs": [
    {
     "data": {
      "text/plain": [
       "390625"
      ]
     },
     "execution_count": 188,
     "metadata": {},
     "output_type": "execute_result"
    }
   ],
   "source": [
    "625 * 625"
   ]
  }
 ],
 "metadata": {
  "kernelspec": {
   "display_name": "Python 3 (ipykernel)",
   "language": "python",
   "name": "python3"
  },
  "language_info": {
   "codemirror_mode": {
    "name": "ipython",
    "version": 3
   },
   "file_extension": ".py",
   "mimetype": "text/x-python",
   "name": "python",
   "nbconvert_exporter": "python",
   "pygments_lexer": "ipython3",
   "version": "3.9.7"
  }
 },
 "nbformat": 4,
 "nbformat_minor": 5
}
