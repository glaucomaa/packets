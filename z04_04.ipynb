{
 "cells": [
  {
   "cell_type": "code",
   "execution_count": 127,
   "id": "c2225016",
   "metadata": {},
   "outputs": [],
   "source": [
    "\n",
    "stro=\"2020 cat female aqdora 2828 282828\"\n"
   ]
  },
  {
   "cell_type": "code",
   "execution_count": 128,
   "id": "59fa203d",
   "metadata": {},
   "outputs": [
    {
     "data": {
      "text/plain": [
       "[['2020', 'cat', 'female', 'adora', '2828', '282828'],\n",
       " ['2020', 'cat', 'female', 'dora', '2828', '282828'],\n",
       " ['2020', 'cat', 'male', 'qdora', '2828', '282828'],\n",
       " ['2020', 'cat', 'male', 'qdora', '2828', '282828'],\n",
       " ['2020', 'cat', 'female', 'aqdora', '2828', '282828']]"
      ]
     },
     "execution_count": 128,
     "metadata": {},
     "output_type": "execute_result"
    }
   ],
   "source": [
    "#id, animal, gender, name, *oth=stro.split()\n",
    "x=[id, animal, gender, name, *oth]=stro.split()\n",
    "animals.append(x)\n",
    "animals"
   ]
  },
  {
   "cell_type": "code",
   "execution_count": 138,
   "id": "b340bfa6",
   "metadata": {},
   "outputs": [],
   "source": [
    "from itertools import permutations"
   ]
  },
  {
   "cell_type": "code",
   "execution_count": 167,
   "id": "fe39f59f",
   "metadata": {},
   "outputs": [],
   "source": [
    "gen=(animals[i][3] for i,j in permutations(list(range(len(animals))),2) if animals[i][1]==animals[j][1] and animals[i][2]!=animals[j][2] and animals[i][2]=='female')"
   ]
  },
  {
   "cell_type": "code",
   "execution_count": 174,
   "id": "64a4c41e",
   "metadata": {},
   "outputs": [
    {
     "name": "stdout",
     "output_type": "stream",
     "text": [
      "females end\n"
     ]
    }
   ],
   "source": [
    "try:\n",
    "    print(next(gen))\n",
    "except(StopIteration):\n",
    "    print('females end')"
   ]
  }
 ],
 "metadata": {
  "kernelspec": {
   "display_name": "Python 3 (ipykernel)",
   "language": "python",
   "name": "python3"
  },
  "language_info": {
   "codemirror_mode": {
    "name": "ipython",
    "version": 3
   },
   "file_extension": ".py",
   "mimetype": "text/x-python",
   "name": "python",
   "nbconvert_exporter": "python",
   "pygments_lexer": "ipython3",
   "version": "3.9.7"
  }
 },
 "nbformat": 4,
 "nbformat_minor": 5
}
