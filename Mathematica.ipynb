{
 "cells": [
  {
   "cell_type": "markdown",
   "id": "e19c2a94",
   "metadata": {},
   "source": [
    "#### уравнение Дюффинга\n",
    "# $x''+\\gamma x'+\\omega_0^2x(1-\\alpha x^2)=\\beta\\cos{\\omega t}$"
   ]
  },
  {
   "cell_type": "markdown",
   "id": "ccc18b83",
   "metadata": {},
   "source": [
    "# Mathematica"
   ]
  },
  {
   "cell_type": "markdown",
   "id": "c7ddc8fe",
   "metadata": {},
   "source": [
    "$\\text{DSolve }\\dots $\n",
    "$\\\\y'+y\\tan{x}=\\sin{2x}, y(0)=2$"
   ]
  },
  {
   "cell_type": "code",
   "execution_count": 7,
   "id": "7b1d9496",
   "metadata": {},
   "outputs": [],
   "source": [
    "from sympy import *"
   ]
  },
  {
   "cell_type": "code",
   "execution_count": 8,
   "id": "a92d6bbe",
   "metadata": {},
   "outputs": [],
   "source": [
    "x=Symbol('x')"
   ]
  },
  {
   "cell_type": "code",
   "execution_count": 10,
   "id": "56f7de1f",
   "metadata": {},
   "outputs": [],
   "source": [
    "f = symbols('f',cls=Function)"
   ]
  },
  {
   "cell_type": "code",
   "execution_count": 12,
   "id": "656e94a3",
   "metadata": {},
   "outputs": [],
   "source": [
    "diffeq = Eq(f(x).diff(x)+f(x)*tan(x),sin(2*x))"
   ]
  },
  {
   "cell_type": "code",
   "execution_count": 14,
   "id": "fb270855",
   "metadata": {},
   "outputs": [
    {
     "data": {
      "text/latex": [
       "$\\displaystyle f{\\left(x \\right)} \\tan{\\left(x \\right)} + \\frac{d}{d x} f{\\left(x \\right)} = \\sin{\\left(2 x \\right)}$"
      ],
      "text/plain": [
       "Eq(f(x)*tan(x) + Derivative(f(x), x), sin(2*x))"
      ]
     },
     "execution_count": 14,
     "metadata": {},
     "output_type": "execute_result"
    }
   ],
   "source": [
    "diffeq"
   ]
  }
 ],
 "metadata": {
  "kernelspec": {
   "display_name": "Python 3 (ipykernel)",
   "language": "python",
   "name": "python3"
  },
  "language_info": {
   "codemirror_mode": {
    "name": "ipython",
    "version": 3
   },
   "file_extension": ".py",
   "mimetype": "text/x-python",
   "name": "python",
   "nbconvert_exporter": "python",
   "pygments_lexer": "ipython3",
   "version": "3.9.7"
  }
 },
 "nbformat": 4,
 "nbformat_minor": 5
}
